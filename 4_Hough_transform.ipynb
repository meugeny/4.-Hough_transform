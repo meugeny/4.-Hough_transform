{
  "nbformat": 4,
  "nbformat_minor": 0,
  "metadata": {
    "colab": {
      "provenance": []
    },
    "kernelspec": {
      "name": "python3",
      "display_name": "Python 3"
    },
    "language_info": {
      "name": "python"
    }
  },
  "cells": [
    {
      "cell_type": "markdown",
      "source": [
        "# 4. Поиск координат углов прямоугольника на изображении при помощи преобразования Хафа\n",
        "Реализовать поиск координат углов прямоугольника при помощи классического преобразования Хафа на изображении, полученным при помощи класса из п.1. Привести листинг программы и 5 примеров работы (изображение, результаты вычислений, оценка точности). Будет большим плюсом реализация визуализации аккумулятора Хафа + визуализация найденных прямых на исходном изображении.\n"
      ],
      "metadata": {
        "id": "_JBIGDe7_jk6"
      }
    },
    {
      "cell_type": "markdown",
      "source": [
        "## Импорт библиотек"
      ],
      "metadata": {
        "id": "XbOgNpBkjpOq"
      }
    },
    {
      "cell_type": "code",
      "execution_count": 154,
      "metadata": {
        "id": "g1e7Lrtjw4Y5"
      },
      "outputs": [],
      "source": [
        "from skimage.transform import (hough_line, hough_line_peaks)\n",
        "import random\n",
        "import numpy as np\n",
        "import cv2\n",
        "from matplotlib import pyplot as plt\n",
        "from scipy.spatial import distance"
      ]
    },
    {
      "cell_type": "markdown",
      "source": [
        "## Генерация данных\n",
        "Прямоугольники случайного цвета со сторонами от 150 до 250 пикселей, повернутые на случайный угол от 0 до 90 градусов.  \n",
        "\n",
        "Фон - изображение 640 на 480 пикселей случайного цвета."
      ],
      "metadata": {
        "id": "qdoRF_aajvmx"
      }
    },
    {
      "cell_type": "code",
      "source": [
        "class object1:\n",
        "    def ran1(self):\n",
        "        self.img = np.zeros((480, 640, 3), np.uint8)\n",
        "        self.img[:] = (random.randrange(0, 255), random.randrange(0, 255), random.randrange(0, 255))\n",
        "        width = random.randrange(100, 250)\n",
        "        height = random.randrange(100, 250)\n",
        "        diam = np.sqrt(width ** 2 + height ** 2)\n",
        "\n",
        "        x1 = random.randrange(int(diam / 2 - width / 2), int(self.img.shape[1] - (diam / 2 - width / 2) - width))\n",
        "        x2 = x1 + width\n",
        "        y1 = random.randrange(int((diam / 2 - height / 2)), int(self.img.shape[0] - (diam / 2 - height / 2) - height))\n",
        "        y2 = y1 + height\n",
        "\n",
        "        points = np.array([[x1, y1], [x2, y1], [x2, y2], [x1, y2]])\n",
        "\n",
        "        ANGLE = np.deg2rad(random.randrange(0, 89))\n",
        "        c_x, c_y = np.mean(points, axis=0)\n",
        "        points = np.array([[c_x + np.cos(ANGLE) * (px - c_x) - np.sin(ANGLE) * (py - c_y),\n",
        "                            c_y + np.sin(ANGLE) * (px - c_x) + np.cos(ANGLE) * (py - c_y)]\n",
        "                           for px, py in points]).astype(int)\n",
        "\n",
        "        self.points = points\n",
        "        self.describe = np.array([points[3][0], points[0][1], points[1][0] - points[3][0], points[2][1] - points[0][1]])\n",
        "        self.img = cv2.drawContours(self.img, [points], 0,\n",
        "                               (random.randrange(0, 255), random.randrange(0, 255), random.randrange(0, 255)), -1)\n"
      ],
      "metadata": {
        "id": "gNSVReuZxBSd"
      },
      "execution_count": 155,
      "outputs": []
    },
    {
      "cell_type": "code",
      "source": [
        "image = object1()\n",
        "image.ran1()"
      ],
      "metadata": {
        "id": "0O9Zip1ixVdV"
      },
      "execution_count": 156,
      "outputs": []
    },
    {
      "cell_type": "markdown",
      "source": [
        "Отоблажение прямоугольника в черно-белом цвете"
      ],
      "metadata": {
        "id": "e5yKeHbGjyYN"
      }
    },
    {
      "cell_type": "code",
      "source": [
        "img = image.img\n",
        "img = cv2.cvtColor(img, cv2.COLOR_BGR2GRAY)\n",
        "print(img.shape)\n",
        "plt.imshow(img, cmap='gray')"
      ],
      "metadata": {
        "colab": {
          "base_uri": "https://localhost:8080/",
          "height": 305
        },
        "id": "6_WLvfnwxYuN",
        "outputId": "f8e9f967-1214-4ce8-8444-1001556217d4"
      },
      "execution_count": 157,
      "outputs": [
        {
          "output_type": "stream",
          "name": "stdout",
          "text": [
            "(480, 640)\n"
          ]
        },
        {
          "output_type": "execute_result",
          "data": {
            "text/plain": [
              "<matplotlib.image.AxesImage at 0x7fc2ff499490>"
            ]
          },
          "metadata": {},
          "execution_count": 157
        },
        {
          "output_type": "display_data",
          "data": {
            "text/plain": [
              "<Figure size 432x288 with 1 Axes>"
            ],
            "image/png": "[encoded data removed]"
          },
          "metadata": {
            "needs_background": "light"
          }
        }
      ]
    },
    {
      "cell_type": "markdown",
      "source": [
        "# Визуализация аккумулятора Хафа\n",
        "Аккумулятор представляет собой двумерный массив, два измерения которого соответствуют квантованным значениям параметров m и b (параметры прямых).   \n",
        "\n",
        "Для каждой точки и её соседей алгоритм определяет, достаточен ли вес границы в этой точке. Если да, то алгоритм вычисляет параметры прямой и увеличивает значение в ячейке аккумулятора, соответствующей данным параметрам."
      ],
      "metadata": {
        "id": "QVWO2Ul_j4IW"
      }
    },
    {
      "cell_type": "code",
      "source": [
        "accumulator, thetas, rhos = hough_line(img)\n",
        "\n",
        "plt.figure(figsize=(10,10))\n",
        "plt.imshow(accumulator)  "
      ],
      "metadata": {
        "colab": {
          "base_uri": "https://localhost:8080/",
          "height": 613
        },
        "id": "0Potuwo1xn9U",
        "outputId": "4a2b2664-1a09-4b91-f6d3-9ab726fed5ad"
      },
      "execution_count": 158,
      "outputs": [
        {
          "output_type": "execute_result",
          "data": {
            "text/plain": [
              "<matplotlib.image.AxesImage at 0x7fc2ff3f99d0>"
            ]
          },
          "metadata": {},
          "execution_count": 158
        },
        {
          "output_type": "display_data",
          "data": {
            "text/plain": [
              "<Figure size 720x720 with 1 Axes>"
            ],
            "image/png": "[encoded data removed]"
          },
          "metadata": {
            "needs_background": "light"
          }
        }
      ]
    },
    {
      "cell_type": "markdown",
      "source": [
        "`Получение параметров преобразования Хафа:`  \n",
        "rho - расстояние от начала координат до линии.  \n",
        "theta - угол от начала координат до линии. [-90° to 90°]  \n",
        "С помощью данных параметров мы можем реализовать поиск сторон прямоугольника на изображении."
      ],
      "metadata": {
        "id": "I_DI-PW1nrV2"
      }
    },
    {
      "cell_type": "code",
      "source": [
        "idx = np.argmax(accumulator)\n",
        "rho = rhos[int(idx / accumulator.shape[1])]\n",
        "theta = thetas[idx % accumulator.shape[1]]\n",
        "print(\"rho={0:.2f}, theta={1:.0f}\".format(rho, np.rad2deg(theta)))"
      ],
      "metadata": {
        "colab": {
          "base_uri": "https://localhost:8080/"
        },
        "id": "IFrGvmxVxqX0",
        "outputId": "cec27b01-b209-40a4-e768-500858089f4a"
      },
      "execution_count": 159,
      "outputs": [
        {
          "output_type": "stream",
          "name": "stdout",
          "text": [
            "rho=-1.50, theta=-54\n"
          ]
        }
      ]
    },
    {
      "cell_type": "markdown",
      "source": [
        "## Получение вероятностных линий Хафа на изображении\n",
        "Чтобы получить линии Хафа на изображении воспользуемся функцией `cv2.HoughLinesP` из библиотеки OpenCV, которая возвращает вероятностные линии Хафа на изображении.  \n",
        "Параметрами функции являются:  \n",
        "* dst: выходное изображения после определения границ в черном-белом цвете. \n",
        "* lines: вектор, получающий параметры обнаруженных линий\n",
        "* rho : разрешение параметра в пикселях\n",
        "* theta: разрешение параметра в радианах (используется в градусы)\n",
        "* threshold: минимальное количество пересечений для определения линии\n",
        "* minLineLength: минимальное количество точек для формирования линии\n",
        "* maxLineGap: Максимальное расстояние между точками внутри одной линии"
      ],
      "metadata": {
        "id": "Tt0txPQekEDY"
      }
    },
    {
      "cell_type": "code",
      "source": [
        "edges = cv2.Canny(img,50,150,apertureSize = 3)\n",
        "lines = cv2.HoughLinesP(edges, 1, np.pi / 180, 50, None, 50, 10)"
      ],
      "metadata": {
        "id": "d_M3f8nxyzJ6"
      },
      "execution_count": 160,
      "outputs": []
    },
    {
      "cell_type": "markdown",
      "source": [
        "Координаты точек всех предсказанных сторон прямоугольника"
      ],
      "metadata": {
        "id": "pOiHKyXtkI6d"
      }
    },
    {
      "cell_type": "code",
      "source": [
        "lines"
      ],
      "metadata": {
        "colab": {
          "base_uri": "https://localhost:8080/"
        },
        "id": "77-ugy4zQoeg",
        "outputId": "a18ce4df-6d98-4250-a5eb-1e579e2e8807"
      },
      "execution_count": 161,
      "outputs": [
        {
          "output_type": "execute_result",
          "data": {
            "text/plain": [
              "array([[[ 65, 373, 221, 290]],\n",
              "\n",
              "       [[163, 182, 221, 291]],\n",
              "\n",
              "       [[  6, 265, 162, 182]],\n",
              "\n",
              "       [[  6, 266,  63, 373]]], dtype=int32)"
            ]
          },
          "metadata": {},
          "execution_count": 161
        }
      ]
    },
    {
      "cell_type": "markdown",
      "source": [
        "Произведем вычисления, чтобы оставить только координаты сторон прямоугольника.  \n",
        "\n",
        "Для этого используем функцию, принимающую 8 координат x,y сторон прямоугольника, и возвращающую 4 уникальних координаты вершин прямоугольника."
      ],
      "metadata": {
        "id": "upzrpvLkRBuY"
      }
    },
    {
      "cell_type": "code",
      "source": [
        "coord = np.reshape(lines, (-1, 2))"
      ],
      "metadata": {
        "id": "t1vAP8ihfxc0"
      },
      "execution_count": 162,
      "outputs": []
    },
    {
      "cell_type": "code",
      "source": [
        "def uniq_coord(coord):\n",
        "    thr = 5\n",
        "    list = []\n",
        "    for i in range(len(coord)):\n",
        "        for j in range(i+1, len(coord)):\n",
        "\n",
        "            if abs(coord[i][0] - coord[j][0]) < thr and abs(coord[i][1] - coord[j][1]) < thr:\n",
        "                list.append([i,j])\n",
        "\n",
        "    uniq = np.array(list)[:,0]\n",
        "    return coord[uniq]"
      ],
      "metadata": {
        "id": "xwP5BQQIqVZY"
      },
      "execution_count": 163,
      "outputs": []
    },
    {
      "cell_type": "code",
      "source": [
        "pred_coord = uniq_coord(coord)\n",
        "pred_coord"
      ],
      "metadata": {
        "colab": {
          "base_uri": "https://localhost:8080/"
        },
        "id": "YMRK7CnBQNfv",
        "outputId": "519b387e-6f08-457e-afa3-3b37a882b519"
      },
      "execution_count": 164,
      "outputs": [
        {
          "output_type": "execute_result",
          "data": {
            "text/plain": [
              "array([[ 65, 373],\n",
              "       [221, 290],\n",
              "       [163, 182],\n",
              "       [  6, 265]], dtype=int32)"
            ]
          },
          "metadata": {},
          "execution_count": 164
        }
      ]
    },
    {
      "cell_type": "markdown",
      "source": [
        "Исходные координаты вершин треугольника"
      ],
      "metadata": {
        "id": "3Xw_0bHCRYHO"
      }
    },
    {
      "cell_type": "code",
      "source": [
        "image.points"
      ],
      "metadata": {
        "colab": {
          "base_uri": "https://localhost:8080/"
        },
        "id": "xeE9dGIAKzov",
        "outputId": "30d7b0d5-9e6b-4aad-919d-106cc64e0ef3"
      },
      "execution_count": 165,
      "outputs": [
        {
          "output_type": "execute_result",
          "data": {
            "text/plain": [
              "array([[163, 182],\n",
              "       [221, 290],\n",
              "       [ 64, 373],\n",
              "       [  6, 265]])"
            ]
          },
          "metadata": {},
          "execution_count": 165
        }
      ]
    },
    {
      "cell_type": "markdown",
      "source": [
        "## Оценка точности\n",
        "Определим значение абсолютной погрешности предсказания координат, просуммировав разницу каждой координаты.  "
      ],
      "metadata": {
        "id": "1G_Mp29pkPZb"
      }
    },
    {
      "cell_type": "code",
      "source": [
        "(image.points - pred_coord).sum()"
      ],
      "metadata": {
        "colab": {
          "base_uri": "https://localhost:8080/"
        },
        "id": "RTu12HBxjT89",
        "outputId": "31e19bdf-9aaf-4c5e-8adf-9a4f27141dac"
      },
      "execution_count": 166,
      "outputs": [
        {
          "output_type": "execute_result",
          "data": {
            "text/plain": [
              "-1"
            ]
          },
          "metadata": {},
          "execution_count": 166
        }
      ]
    },
    {
      "cell_type": "markdown",
      "source": [
        "## Визуализация результата\n",
        "Отобразим полученные координаты на исходном прямоугольнике."
      ],
      "metadata": {
        "id": "EhGA2yx3kiKE"
      }
    },
    {
      "cell_type": "code",
      "source": [
        "# Создадим оси и фигуру\n",
        "fig, ax = plt.subplots()\n",
        "# Покажем координаты точек прямоугольника\n",
        "x, y = pred_coord.T\n",
        "plt.scatter(x,y, color='w')\n",
        "# Отобразим координаты на изображении с прямоугольником\n",
        "ax.imshow(img)\n",
        "plt.show()"
      ],
      "metadata": {
        "colab": {
          "base_uri": "https://localhost:8080/",
          "height": 269
        },
        "id": "5w270exf6a-u",
        "outputId": "091d9e6a-fb21-42a1-cf2d-8f5bd057713b"
      },
      "execution_count": 167,
      "outputs": [
        {
          "output_type": "display_data",
          "data": {
            "text/plain": [
              "<Figure size 432x288 with 1 Axes>"
            ],
            "image/png": "[encoded data removed]"
          },
          "metadata": {
            "needs_background": "light"
          }
        }
      ]
    }
  ]
}